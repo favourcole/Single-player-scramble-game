{
 "cells": [
  {
   "cell_type": "code",
   "execution_count": 2,
   "id": "40433197",
   "metadata": {},
   "outputs": [
    {
     "name": "stdout",
     "output_type": "stream",
     "text": [
      "Enter word: hey\n"
     ]
    },
    {
     "data": {
      "text/plain": [
       "12"
      ]
     },
     "execution_count": 2,
     "metadata": {},
     "output_type": "execute_result"
    }
   ],
   "source": [
    "#Task4\n",
    "import itertools \n",
    "scoreslist=[] #variable named \"scorelist\" has an empty list\n",
    "Dict=[\"A\", \"B\", \"C\", \"D\", \"E\", \"F\", \"F\", \"H\", \"I\", \"J\", \"K\", \"L\", \"M\", \"N\", \"O\", \"P\", \"Q\",\"R\", \"S\",\"T\", \"U\", \"V\", \"W\", \"X\", \"Y\", \"Z\"] # variable named Dict that has the following list containing the alphabet\n",
    "addlist=[] #variable named \"addlist\" has an empty list\n",
    "\n",
    "try:\n",
    "    file1 = open (\"scores.txt\", \"r\") # variable name file1 opens the text file and reads it\n",
    "except:\n",
    "    print(\"failed to open file\")\n",
    "    \n",
    "for line in file1: #for loop(keeps repeating until the condition is met) in file1\n",
    "    line= line.strip (\"\\n\") #variable named line with the strip command so it removes spaces at the beginning and at the end of the string\n",
    "    new=line.split(\" \") #a variable named new it splits the \"\" as separator\n",
    "    scoreslist.append (new)# the variable called earlier will have all of the items listing ascending alphabetically\n",
    "    \n",
    "resultList=list(itertools.chain.from_iterable(scoreslist))\n",
    "list1 = {resultList[i]: resultList[i+1] for i in range(0, len(resultList), 2)}\n",
    "\n",
    "word=(input (\"Enter word: \")) # variable named word have to put the input word\n",
    "def getWordScore(word): # calling a function named onlyEnglishLetters with the argument word\n",
    "    total_score=0  #variable named total_score is set at 0\n",
    "    word1=word.upper() #variable named word1 will return all of the characters of word1 capital case\n",
    "    for letter in word1: # for loop so it will keep on happening until th condition in word is met\n",
    "        if letter in Dict: #if the letter is in the dicctionary \n",
    "            total_score += int(list1[letter]) #it count it up as an integer for the total_Score\n",
    "        else: #otherwise\n",
    "            return 0 #it will give 0\n",
    "    return total_score\n",
    "getWordScore(word)"
   ]
  },
  {
   "cell_type": "code",
   "execution_count": null,
   "id": "355664d0",
   "metadata": {},
   "outputs": [],
   "source": []
  }
 ],
 "metadata": {
  "kernelspec": {
   "display_name": "Python 3 (ipykernel)",
   "language": "python",
   "name": "python3"
  },
  "language_info": {
   "codemirror_mode": {
    "name": "ipython",
    "version": 3
   },
   "file_extension": ".py",
   "mimetype": "text/x-python",
   "name": "python",
   "nbconvert_exporter": "python",
   "pygments_lexer": "ipython3",
   "version": "3.9.13"
  }
 },
 "nbformat": 4,
 "nbformat_minor": 5
}
