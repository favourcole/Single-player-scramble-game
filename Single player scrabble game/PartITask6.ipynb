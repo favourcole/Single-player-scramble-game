{
 "cells": [
  {
   "cell_type": "code",
   "execution_count": 2,
   "id": "8ae6c8ab",
   "metadata": {},
   "outputs": [
    {
     "name": "stdout",
     "output_type": "stream",
     "text": [
      "Enter word: hey\n"
     ]
    },
    {
     "data": {
      "text/plain": [
       "(True, 'This is a valid word')"
      ]
     },
     "execution_count": 2,
     "metadata": {},
     "output_type": "execute_result"
    }
   ],
   "source": [
    "dictionary=[]\n",
    "myTiles=[]\n",
    "\n",
    "try:\n",
    "    file = open('dictionary.txt', \"r\")\n",
    "    file2 = open('tiles.txt', \"r\")\n",
    "except:\n",
    "    print(\"error opening file\")\n",
    "\n",
    "for line in file:\n",
    "    line= line.strip(\"\\n\")\n",
    "    dictionary.append(line)\n",
    "for line in file2:\n",
    "    line= line.strip(\"\\n\")\n",
    "    myTiles.append(line)\n",
    "\n",
    "def onlyEnglishLetters(word):\n",
    "    if word.isalpha(): #checks if all characters are in the alphabet\n",
    "        return True\n",
    "    else:\n",
    "        return False\n",
    "    \n",
    "def canBeMade(word, myTiles):\n",
    "    word = word.upper()\n",
    "    if not word.isalpha(): #checks if all characters are in the alphabet\n",
    "        return False\n",
    "    for letter in word:\n",
    "        if myTiles.count(letter) < word.count(letter): #compares tiles to word inputed\n",
    "            return False\n",
    "    return True\n",
    "\n",
    "word=(input(\"Enter word: \"))\n",
    "def isValid(word, myTiles, dictionary):\n",
    "    word = word.upper()\n",
    "    if onlyEnglishLetters(word) is False:\n",
    "        return False, \"The word must consist of only English letters.\"\n",
    "    if word not in dictionary:\n",
    "        return False, \"There is no such word in the dictionary\"\n",
    "    if canBeMade(word, myTiles) is False:\n",
    "        return False, \"This word cannot be made from these tiles\"\n",
    "    return True, \"This is a valid word\"\n",
    "\n",
    "isValid(word, myTiles, dictionary)"
   ]
  },
  {
   "cell_type": "code",
   "execution_count": null,
   "id": "8f1f90b3",
   "metadata": {},
   "outputs": [],
   "source": []
  }
 ],
 "metadata": {
  "kernelspec": {
   "display_name": "Python 3 (ipykernel)",
   "language": "python",
   "name": "python3"
  },
  "language_info": {
   "codemirror_mode": {
    "name": "ipython",
    "version": 3
   },
   "file_extension": ".py",
   "mimetype": "text/x-python",
   "name": "python",
   "nbconvert_exporter": "python",
   "pygments_lexer": "ipython3",
   "version": "3.9.13"
  }
 },
 "nbformat": 4,
 "nbformat_minor": 5
}
