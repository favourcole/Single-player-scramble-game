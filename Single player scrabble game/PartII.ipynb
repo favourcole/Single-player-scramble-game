{
 "cells": [
  {
   "cell_type": "code",
   "execution_count": 10,
   "id": "a7776985",
   "metadata": {},
   "outputs": [
    {
     "name": "stdout",
     "output_type": "stream",
     "text": [
      "Your tiles: N C R I B A G\n",
      "Scores: 3 5 3 1 3 1 4 Enter a word (or &&& to exit): bag\n",
      "You got it right, this is a valid word\n",
      "Score: 8\n"
     ]
    }
   ],
   "source": [
    "#Part 2\n",
    "import string #Before using any of its constants or classes, we must import the built-in module.\n",
    "import random #series of functions to generate random numbers\n",
    "import sys #provides functions and variables which are used to manipulate Python Runtime Environments\n",
    "\n",
    "# Load the scores of each letter\n",
    "scores = {} #empty dictionary\n",
    "with open('scores.txt', 'r') as f: #open the file contents in scores.txt in reading mode\n",
    "    for line in f: #create a for loop - loops through each line in the scores.txt file one by 1 untill the loop is done (untill it has read all the lines)\n",
    "        letter, score = line.strip().split() # it will strip the letter and the score to remove all the white spaces and then it will split the letter and first splits each line in the file so we can get them as a separate string and will then strip it to remove all the white spaces\n",
    "        scores[letter.upper()] = int(score)\n",
    "\n",
    "\n",
    "# Generate 7 random tiles\n",
    "letters = random.choices(string.ascii_uppercase, k=7) #it is a method produces a list containing the element from the supplied sequence that was randomly chosen in this case gives back strings in upper cases with a length of 7 characters \n",
    "\n",
    "# Load the English words from the dictionary\n",
    "english_words = [] #empty list\n",
    "with open('dictionary.txt', 'r') as f:#opens the files contents\n",
    "    for line in f: # create a for loop - loops through each line in the dictionary.txt file one by 1 untill the loop is done (untill it has read all the lines)\n",
    "        english_words.append(line.strip().upper()) #the empty list named above will add an element at thend of the list it will remove any spaces at the start and the end and have it in upper case\n",
    "\n",
    "# This is to see if the word that has been entered is a valid English word\n",
    "def onlyEnglishLetters(word): #calling a function named english words\n",
    "    return word in english_words # will return the word if its valid\n",
    "\n",
    "# This is to see if the word can be made from the tiles\n",
    "def canBeMade(word, letters): #calling a function named can_be_named\n",
    "    letters = list(letters) #the variable letters is assigned with the list of the parameter listed in the function\n",
    "    for letter in word: #for loop for letter in the parameter(word)\n",
    "        if letter not in letters: #if the letter isn't in the parameter in the function\n",
    "            return False #it will give you false\n",
    "        letters.remove(letter) \n",
    "    return True\n",
    "\n",
    "# This is in order to get the score of the word\n",
    "def getLetterScore(word): #calling a function named calculate_score with the argument word\n",
    "    score = 0 #score is at 0\n",
    "    for letter in word: # for loop for the letter in the word\n",
    "        score += scores[letter] # add + to the scores acorrding the letters used with their assigned values\n",
    "    return score # and give you the scores or the values since [letter] is the key\n",
    "\n",
    "# This for the part of the game\n",
    "def play_game(): # calling a function named play_game\n",
    "    print(\"Your tiles:\", ' '.join(letters)) # it will give your tiles joined together\n",
    "    sys.stdout.write(\"Scores: \") # Make the scores horizontally aligned with the letters\n",
    "    for letter in letters:\n",
    "        if letter in scores:\n",
    "            print(scores[letter], end = \" \") # Make the scores(number values) be on the same line as the word \"scores\"\n",
    "            \n",
    "    word = input(\"Enter a word (or &&& to exit): \").strip().upper() #it will remove any spaces at the start and the end and return them in upper case too\n",
    "    if word == \"&&&\": # if the user gives them this as an answer then\n",
    "        print(\"Thanks for using this application, better luck next time!!!\") # it will print this message\n",
    "    elif not all(letter in string.ascii_letters for letter in word): # if the letters in the word put by the user are not characters in the alphabet\n",
    "        print(\"Only use English letters...\") # it will say this message\n",
    "    elif not onlyEnglishLetters(word): # if the word put by the user and isn't found in the dictionary file then \n",
    "        print(\"There is no such word in the dictionary\") # it will print this\n",
    "    elif not canBeMade(word, letters):# if the word or characters that the user puts down and it is clearly not a word that can be made from those tiles then\n",
    "        print(\"This word cannot be made from these tiles\") # it will print this message\n",
    "    print(\"You got it right, this is a valid word\") #it will print this message if the word given by the user is correct\n",
    "    score = getLetterScore(word) # it will in return calculate the score\n",
    "    print(\"Score:\", score)\n",
    "\n",
    "play_game()\n"
   ]
  },
  {
   "cell_type": "code",
   "execution_count": null,
   "id": "a62107fe",
   "metadata": {},
   "outputs": [],
   "source": []
  },
  {
   "cell_type": "code",
   "execution_count": null,
   "id": "e234cf08",
   "metadata": {},
   "outputs": [],
   "source": []
  }
 ],
 "metadata": {
  "kernelspec": {
   "display_name": "Python 3 (ipykernel)",
   "language": "python",
   "name": "python3"
  },
  "language_info": {
   "codemirror_mode": {
    "name": "ipython",
    "version": 3
   },
   "file_extension": ".py",
   "mimetype": "text/x-python",
   "name": "python",
   "nbconvert_exporter": "python",
   "pygments_lexer": "ipython3",
   "version": "3.9.13"
  }
 },
 "nbformat": 4,
 "nbformat_minor": 5
}
