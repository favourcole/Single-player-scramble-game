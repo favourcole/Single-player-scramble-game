{
 "cells": [
  {
   "cell_type": "code",
   "execution_count": 3,
   "id": "c9a1be29",
   "metadata": {},
   "outputs": [
    {
     "name": "stdout",
     "output_type": "stream",
     "text": [
      "Enter word: sew\n"
     ]
    },
    {
     "data": {
      "text/plain": [
       "True"
      ]
     },
     "execution_count": 3,
     "metadata": {},
     "output_type": "execute_result"
    }
   ],
   "source": [
    "#Task5\n",
    "myTiles=[\"T\",\"Y\",\"S\",\"E\",\"U\",\"W\",\"I\"]\n",
    "word=(input (\"Enter word: \"))# variable named word have to put the input word\n",
    "\n",
    "def canBeMade (word, myTiles): #calling a function canbeMade with the arguments word and MyTiles\n",
    "    word = word.upper() #variable named word would be making everything in the capital case\n",
    "    if not word.isalpha(): #checks if all characters are in the alphabet\n",
    "        return False\n",
    "    for letter in word:\n",
    "        if myTiles.count(letter) < word.count(letter): #compares tiles to word inputed\n",
    "            return False\n",
    "    return True\n",
    "canBeMade (word, myTiles)"
   ]
  },
  {
   "cell_type": "code",
   "execution_count": null,
   "id": "eff62912",
   "metadata": {},
   "outputs": [],
   "source": []
  }
 ],
 "metadata": {
  "kernelspec": {
   "display_name": "Python 3 (ipykernel)",
   "language": "python",
   "name": "python3"
  },
  "language_info": {
   "codemirror_mode": {
    "name": "ipython",
    "version": 3
   },
   "file_extension": ".py",
   "mimetype": "text/x-python",
   "name": "python",
   "nbconvert_exporter": "python",
   "pygments_lexer": "ipython3",
   "version": "3.9.13"
  }
 },
 "nbformat": 4,
 "nbformat_minor": 5
}
