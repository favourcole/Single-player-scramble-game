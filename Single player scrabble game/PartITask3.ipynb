{
 "cells": [
  {
   "cell_type": "code",
   "execution_count": 2,
   "id": "61959637",
   "metadata": {},
   "outputs": [
    {
     "name": "stdout",
     "output_type": "stream",
     "text": [
      "{'A': '1', 'B': '3', 'C': '5', 'D': '3', 'E': '1', 'F': '5', 'G': '4', 'H': '3', 'I': '1', 'J': '10', 'K': '8', 'L': '3', 'M': '5', 'N': '3', 'O': '2', 'P': '5', 'Q': '20', 'R': '3', 'S': '3', 'T': '2', 'U': '1', 'V': '10', 'W': '12', 'X': '16', 'Y': '8', 'Z': '20'}\n",
      "Enter letter: n\n"
     ]
    },
    {
     "data": {
      "text/plain": [
       "'3'"
      ]
     },
     "execution_count": 2,
     "metadata": {},
     "output_type": "execute_result"
    }
   ],
   "source": [
    "#Task3\n",
    "\n",
    "import itertools #used to iterate over data structures that can be stepped over using a for-loop\n",
    "scoreslist=[] #variable named \"scorelist\" has an empty list\n",
    "Dict=[\"A\", \"B\", \"C\", \"D\", \"E\", \"F\", \"G\", \"H\", \"I\", \"J\", \"K\", \"L\", \"M\", \"N\", \"O\", \"P\", \"Q\",\"R\", \"S\",\"T\", \"U\", \"V\", \"W\", \"X\", \"Y\", \"Z\"] # variable named Dict that has the following list containing the alphabet\n",
    "\n",
    "try:\n",
    "    file1= open ('scores.txt', \"r\") #variable name\"file1\" opens the file dictionary.txt and reads it\n",
    "except:\n",
    "    print(\"failed to open file\")\n",
    "    \n",
    "    \n",
    "for line in file1: #for loop(keeps repeating until the condition is met) in file1\n",
    "    line= line.strip (\"\\n\") # variable named \"line\" it will remove any space from the beginning and end of the line (\"\\n\") means new line\n",
    "    new=line.split(\" \")  # splits the strings into a list \n",
    "    scoreslist.append(new) # it sorts the dictionary alphabetically/numerically asceding\n",
    "\n",
    "resultList=list(itertools.chain.from_iterable(scoreslist)) #\n",
    "\n",
    "list1 = {resultList [i]: resultList[i+1] for i in range(0, len(resultList), 2)}\n",
    "print(list1)\n",
    "def getLetterScore(): # calling a function getLetterScore\n",
    "    letter1=(input(\"Enter letter: \")) # variable named letter1 and you enter a letter\n",
    "    letter2=letter1.upper() # variable named letter2 will convert every ltter in letter1 in capital letter\n",
    "    for letter in letter2: # for loop so it will keep on happening until th condition in letter2 is met\n",
    "        if letter2 in Dict: # if the letter2 is in the Dict\n",
    "            return list1[letter2] # then it will return the list of the letter\n",
    "        else:\n",
    "            return 0\n",
    "getLetterScore ()"
   ]
  },
  {
   "cell_type": "code",
   "execution_count": null,
   "id": "90021c9c",
   "metadata": {},
   "outputs": [],
   "source": []
  }
 ],
 "metadata": {
  "kernelspec": {
   "display_name": "Python 3 (ipykernel)",
   "language": "python",
   "name": "python3"
  },
  "language_info": {
   "codemirror_mode": {
    "name": "ipython",
    "version": 3
   },
   "file_extension": ".py",
   "mimetype": "text/x-python",
   "name": "python",
   "nbconvert_exporter": "python",
   "pygments_lexer": "ipython3",
   "version": "3.9.13"
  }
 },
 "nbformat": 4,
 "nbformat_minor": 5
}
