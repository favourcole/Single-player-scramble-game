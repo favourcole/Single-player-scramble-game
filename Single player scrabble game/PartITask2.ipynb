{
 "cells": [
  {
   "cell_type": "code",
   "execution_count": 2,
   "id": "a5012c07",
   "metadata": {},
   "outputs": [
    {
     "name": "stdout",
     "output_type": "stream",
     "text": [
      "True\n",
      "False\n",
      "False\n"
     ]
    }
   ],
   "source": [
    "#Task2\n",
    "\n",
    "Dict=[\"A\", \"B\", \"C\", \"D\", \"E\", \"F\", \"G\", \"H\", \"I\", \"J\", \"K\", \"L\", \"M\", \"N\", \"O\", \"P\", \"Q\",\"R\", \"S\",\"T\", \"U\", \"V\", \"W\", \"X\", \"Y\", \"Z\"] # variable named Dict that has the following list containing the alphabet\n",
    "word1=[] #variable named \"word1\" has an empty list\n",
    "value=True # variable named value has been assigned with True\n",
    "def onlyEnglishLetters (word): # calling a function named onlyEnglishLetters\n",
    "    word1 = word.upper() # variable named word1 it will make the \"word\" in all capital letter \".upper\"\n",
    "    word1 = list(word1) #\n",
    "    for i in word1: # for loop so it will keep on happening until th condition in word1 is met\n",
    "        if i in Dict: # if the word(\"i\") is within the dictionary listed earlier\"Dict\"\n",
    "            value=True # the value is true\n",
    "        else:# otherwise\n",
    "            return False # it will give false\n",
    "    return value \n",
    "print(onlyEnglishLetters ( \"hello\")) # it will print this as True as the conditions are met \n",
    "print(onlyEnglishLetters ( \"HE LLO\")) # it will print this as False as the conditions are not met \n",
    "print(onlyEnglishLetters( \"HE3LLO\")) # it will print this as False as the conditions are not met "
   ]
  },
  {
   "cell_type": "code",
   "execution_count": null,
   "id": "7d5d06df",
   "metadata": {},
   "outputs": [],
   "source": []
  }
 ],
 "metadata": {
  "kernelspec": {
   "display_name": "Python 3 (ipykernel)",
   "language": "python",
   "name": "python3"
  },
  "language_info": {
   "codemirror_mode": {
    "name": "ipython",
    "version": 3
   },
   "file_extension": ".py",
   "mimetype": "text/x-python",
   "name": "python",
   "nbconvert_exporter": "python",
   "pygments_lexer": "ipython3",
   "version": "3.9.13"
  }
 },
 "nbformat": 4,
 "nbformat_minor": 5
}
